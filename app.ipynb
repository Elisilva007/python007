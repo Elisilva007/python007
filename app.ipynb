{
 "cells": [
  {
   "cell_type": "markdown",
   "metadata": {},
   "source": [
    "### Declaraçao de variaveis "
   ]
  },
  {
   "cell_type": "code",
   "execution_count": 7,
   "metadata": {},
   "outputs": [
    {
     "name": "stdout",
     "output_type": "stream",
     "text": [
      "Eli  silva\n"
     ]
    }
   ],
   "source": [
    "nome = 'Eli'\n",
    "sobrenome = 'silva'\n",
    "print(nome + '  ' + sobrenome)"
   ]
  },
  {
   "cell_type": "markdown",
   "metadata": {},
   "source": [
    "#### Tipo de dados "
   ]
  },
  {
   "cell_type": "code",
   "execution_count": null,
   "metadata": {},
   "outputs": [
    {
     "name": "stdout",
     "output_type": "stream",
     "text": [
      "34\n",
      "70.0\n"
     ]
    }
   ],
   "source": [
    "# Int \n",
    "idade = 34 \n",
    "print  (idade)\n",
    "\n",
    "#float\n",
    "peso = 70.00\n",
    "print (peso) \n",
    "\n",
    "#string \n",
    "nome = 'eli' \n",
    "print (nome)\n",
    "\n",
    "#boleano\n",
    "esta_Estudando = False \n",
    "esta_Estudando = True \n",
    "\n"
   ]
  },
  {
   "cell_type": "markdown",
   "metadata": {},
   "source": [
    "#### Operadores e Estrutura de controle de fluxo "
   ]
  },
  {
   "cell_type": "code",
   "execution_count": null,
   "metadata": {},
   "outputs": [
    {
     "name": "stdout",
     "output_type": "stream",
     "text": [
      "True\n",
      "vocé maior de idade \n",
      "1\n",
      "2\n",
      "3\n",
      "4\n",
      "5\n",
      "0\n",
      "1\n",
      "2\n",
      "3\n",
      "4\n",
      "5\n"
     ]
    }
   ],
   "source": [
    "\n",
    "a = 2\n",
    "b = 5\n",
    "soma = (a + b)\n",
    "subtracao = (a - b)\n",
    "multiplicaçao = (a * b)\n",
    "divisao = (a / b) \n",
    "modulo = (a % b)\n",
    "exponecial = (a ** b )\n",
    "\n",
    "# Operadores de comparaçao \n",
    "\n",
    "x = 5\n",
    "y = 8\n",
    "\n",
    "#igualdade \n",
    "y == 8 \n",
    "# desigualdade \n",
    "y != x \n",
    "# Maior que \n",
    "y > x \n",
    "# Menor que \n",
    "y < x\n",
    "#Maio igual  \n",
    "y >= x\n",
    "#Menor igual \n",
    "y <= x\n",
    "\n",
    "\n",
    "#Operadores logicos \n",
    "condicao1 = True\n",
    "condicao2 = False\n",
    "\n",
    "condicao1 and condicao2\n",
    "condicao1 or condicao2\n",
    "nome1 = not condicao2\n",
    "\n",
    "print (nome1)\n",
    "\n",
    "\n",
    "#Estrutura condicional , if, else, elif\n",
    "\n",
    "idade1 = 18\n",
    "if idade1 < 18:\n",
    "    print ('voce é menor de idade')\n",
    "elif idade1 == 18:\n",
    "    print('vocé maior de idade ')\n",
    "else:\n",
    "    print('voce é maior idade')\n",
    "\n",
    "    #Estrutura de repetiçao: \n",
    "\n",
    "lista_num = [1,2,3,4,5]\n",
    "for numero in lista_num:\n",
    "    print(numero)\n",
    "\n",
    "##\n",
    "\n",
    "contador = 0 \n",
    "while  contador <= 5:\n",
    "    print(contador)\n",
    "    contador += 1\n",
    "\n",
    "\n",
    "\n",
    "\n",
    "\n",
    "\n",
    "\n",
    "\n",
    "\n",
    "\n",
    "\n"
   ]
  }
 ],
 "metadata": {
  "kernelspec": {
   "display_name": "Python 3",
   "language": "python",
   "name": "python3"
  },
  "language_info": {
   "codemirror_mode": {
    "name": "ipython",
    "version": 3
   },
   "file_extension": ".py",
   "mimetype": "text/x-python",
   "name": "python",
   "nbconvert_exporter": "python",
   "pygments_lexer": "ipython3",
   "version": "3.12.5"
  }
 },
 "nbformat": 4,
 "nbformat_minor": 2
}
